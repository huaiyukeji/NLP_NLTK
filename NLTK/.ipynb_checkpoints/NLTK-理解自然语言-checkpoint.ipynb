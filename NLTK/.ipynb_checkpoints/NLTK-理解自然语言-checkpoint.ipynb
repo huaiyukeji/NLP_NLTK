{
 "cells": [
  {
   "cell_type": "markdown",
   "metadata": {},
   "source": [
    "# 理解自然语言"
   ]
  },
  {
   "cell_type": "markdown",
   "metadata": {},
   "source": [
    "这部分主要是概念的理解。自然语言中存在哪些现象以及我们要在程序中解决的问题。\n",
    "\n",
    "机器进行语言处理，需要解决诸多问题，例如简单的对话系统，我们要让机器理解我们的语言意思，涉及提取信息提取、推理和总结。"
   ]
  },
  {
   "cell_type": "markdown",
   "metadata": {},
   "source": [
    "## 语意消歧"
   ]
  },
  {
   "cell_type": "markdown",
   "metadata": {},
   "source": [
    "在理解语言意思的过程中，我们要准确理解文中的词被赋予的正确意思。主要解决一词多意的问题。\n",
    "\n",
    "在英语中，解决这种语言歧义，自动消除歧义需要使用上下文，相邻词间的语意具有相近的含义。\n",
    "\n",
    "中文歧义的例子也很多，这里看一下网上的例子：\n",
    "1. 鸡不吃了，吃些别的菜。\n",
    "2. 鸡不吃了，那就别喂它了。\n",
    "\n",
    "这样的句子是歧义句，它可以有不同的理解。这是一种特殊的语言现象，不是病句。\n",
    "曾有个案件，A借B一万元，后来A还给B一万元，让B写字据。B写到：\n",
    "A还欠款一万元。\n",
    "\n",
    "一式二份，A未细看即收起走了，不久B反诉A欠他一万元，因为这是一句歧义句，可以理解为：\n",
    "1. A还欠着B的一万元。\n",
    "2. A归还了B一万元。\n"
   ]
  },
  {
   "cell_type": "markdown",
   "metadata": {},
   "source": [
    "## 指代消解"
   ]
  },
  {
   "cell_type": "markdown",
   "metadata": {},
   "source": [
    "指代消解是解决自然语言的另一大难题，即：区分主语和宾语；分清楚是谁对谁做了什么。\n",
    "\n",
    "这里中文和英文还会面对不太一样的情况，举个例子：\n",
    "\n",
    "1. cn: 一群贼偷走了字画，它们被随后就被卖了。<br>\n",
    "   en: The thieves stole the paintings. They were subsequently sold.\n",
    "2. cn: 一群贼偷走了字画，他们被随后就被抓了。<br>\n",
    "   en: The thieves stole the paintings. They were subsequently caught.\n",
    "3. cn: 一群贼偷走了字画，他们被随后就被找到了。<br>\n",
    "   en: The thieves stole the paintings. They were subsequently caught.\n",
    "   \n",
    "例子中，中文还可以用”他们“，”它们“来进行主语的区分，在英语里，这种情况会更复杂。机器要解决这个问题，首先要找到`先行词`，即主语，是thieves还是paintings，什么被抓了，被卖了，被发现了。\n",
    "\n",
    "处理这个问题的技术包括`指代消解（确定代词或者名词指的是什么）`和`语义角色标注（确定名词短语如何与动词相关联）`。"
   ]
  },
  {
   "cell_type": "markdown",
   "metadata": {},
   "source": [
    "## 自动生成语言"
   ]
  },
  {
   "cell_type": "markdown",
   "metadata": {},
   "source": [
    "机器解决了自然语言的理解问题，即可生成语言，运用在诸如`机器问答`、`机器翻译`、`聊天机器人`等。\n",
    "\n",
    "机器问答要求机器能在一定的文本集中，正确的回答用户的问题。例如："
   ]
  },
  {
   "cell_type": "markdown",
   "metadata": {},
   "source": [
    "## 机器翻译"
   ]
  },
  {
   "cell_type": "markdown",
   "metadata": {},
   "source": [
    "## 人机对话"
   ]
  },
  {
   "cell_type": "markdown",
   "metadata": {},
   "source": [
    "## 语义理解"
   ]
  }
 ],
 "metadata": {
  "kernelspec": {
   "display_name": "blog",
   "language": "python",
   "name": "blog"
  },
  "language_info": {
   "codemirror_mode": {
    "name": "ipython",
    "version": 3
   },
   "file_extension": ".py",
   "mimetype": "text/x-python",
   "name": "python",
   "nbconvert_exporter": "python",
   "pygments_lexer": "ipython3",
   "version": "3.7.5"
  }
 },
 "nbformat": 4,
 "nbformat_minor": 2
}
