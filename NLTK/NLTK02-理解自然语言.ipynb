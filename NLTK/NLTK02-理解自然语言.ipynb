{
 "cells": [
  {
   "cell_type": "markdown",
   "metadata": {},
   "source": [
    "# 理解自然语言"
   ]
  },
  {
   "cell_type": "markdown",
   "metadata": {},
   "source": [
    "这部分主要是概念的理解。自然语言中存在哪些现象以及我们要在程序中解决的问题。\n",
    "\n",
    "机器进行语言处理，需要解决诸多问题，例如简单的对话系统，我们要让机器理解我们的语言意思，涉及提取信息提取、推理和总结。"
   ]
  },
  {
   "cell_type": "markdown",
   "metadata": {},
   "source": [
    "## 语意消歧"
   ]
  },
  {
   "cell_type": "markdown",
   "metadata": {},
   "source": [
    "在理解语言意思的过程中，我们要准确理解文中的词被赋予的正确意思。主要解决一词多意的问题。\n",
    "\n",
    "在英语中，解决这种语言歧义，自动消除歧义需要使用上下文，相邻词间的语意具有相近的含义。\n",
    "\n",
    "中文歧义的例子也很多，这里看一下网上的例子：\n",
    "1. 鸡不吃了，吃些别的菜。\n",
    "2. 鸡不吃了，那就别喂它了。\n",
    "\n",
    "这样的句子是歧义句，它可以有不同的理解。这是一种特殊的语言现象，不是病句。\n",
    "曾有个案件，A借B一万元，后来A还给B一万元，让B写字据。B写到：<br>\n",
    "A还欠款一万元。<br>\n",
    "一式二份，A未细看即收起走了，不久B反诉A欠他一万元，因为这是一句歧义句，可以理解为：\n",
    "1. A还欠着B的一万元。\n",
    "2. A归还了B一万元。\n"
   ]
  },
  {
   "cell_type": "markdown",
   "metadata": {},
   "source": [
    "## 指代消解"
   ]
  },
  {
   "cell_type": "markdown",
   "metadata": {},
   "source": [
    "指代消解是解决自然语言的另一大难题，即：区分主语和宾语；分清楚是谁对谁做了什么。\n",
    "\n",
    "这里中文和英文还会面对不太一样的情况，举个例子：\n",
    "\n",
    "1. cn: 一群贼偷走了字画，它们被随后就被卖了。<br>\n",
    "   en: The thieves stole the paintings. They were subsequently sold.\n",
    "2. cn: 一群贼偷走了字画，他们被随后就被抓了。<br>\n",
    "   en: The thieves stole the paintings. They were subsequently caught.\n",
    "3. cn: 一群贼偷走了字画，他们被随后就被找到了。<br>\n",
    "   en: The thieves stole the paintings. They were subsequently caught.\n",
    "   \n",
    "例子中，中文还可以用”他们“，”它们“来进行主语的区分，在英语里，这种情况会更复杂。机器要解决这个问题，首先要找到`先行词`，即主语，是thieves还是paintings，什么被抓了，被卖了，被发现了。\n",
    "\n",
    "处理这个问题的技术包括`指代消解（确定代词或者名词指的是什么）`和`语义角色标注（确定名词短语如何与动词相关联）`。"
   ]
  },
  {
   "cell_type": "markdown",
   "metadata": {},
   "source": [
    "## 自动生成语言"
   ]
  },
  {
   "cell_type": "markdown",
   "metadata": {},
   "source": [
    "机器解决了自然语言的理解问题，即可生成语言，运用在诸如`机器问答`、`机器翻译`、`聊天机器人`等。\n",
    "\n",
    "机器问答要求机器能在一定的文本集中，正确的回答用户的问题。例如：<br>\n",
    "\n",
    "Text: The thieves stole the paintings. They were subsequently sold...<br>\n",
    "Human: Who or what was sold?<br>\n",
    "Machine: The paintings.<br>\n",
    "\n",
    "机器正确的理解到they指的是paintings。\n",
    "\n",
    "在机器翻译的任务中，机器要能正确的理解句子意思，还要能正确的翻译成另一种语言，准确表达原文的意思。如果将上述句子翻译成中文，如果they指代的是paintings，就要翻译为”它们“，如果指代thieves，就翻译成”他们“，要做到正确的翻译，其实取决于对代词的理解。"
   ]
  },
  {
   "cell_type": "markdown",
   "metadata": {},
   "source": [
    "## 机器翻译"
   ]
  },
  {
   "cell_type": "markdown",
   "metadata": {},
   "source": [
    "机器语言是NLP的起源，历史可以追溯到冷战时期。\n",
    "\n",
    "书中提到`babelize_shell()`方法可以在不同语言间进行翻译，经过测试，此方法目前已经不能用了。"
   ]
  },
  {
   "cell_type": "code",
   "execution_count": 5,
   "metadata": {},
   "outputs": [
    {
     "ename": "NameError",
     "evalue": "name 'babelize' is not defined",
     "output_type": "error",
     "traceback": [
      "\u001b[0;31m---------------------------------------------------------------------------\u001b[0m",
      "\u001b[0;31mNameError\u001b[0m                                 Traceback (most recent call last)",
      "\u001b[0;32m<ipython-input-5-a6d271abbc61>\u001b[0m in \u001b[0;36m<module>\u001b[0;34m\u001b[0m\n\u001b[1;32m      1\u001b[0m \u001b[0;32mfrom\u001b[0m \u001b[0mnltk\u001b[0m\u001b[0;34m.\u001b[0m\u001b[0mbook\u001b[0m \u001b[0;32mimport\u001b[0m \u001b[0;34m*\u001b[0m\u001b[0;34m\u001b[0m\u001b[0;34m\u001b[0m\u001b[0m\n\u001b[1;32m      2\u001b[0m \u001b[0;34m\u001b[0m\u001b[0m\n\u001b[0;32m----> 3\u001b[0;31m \u001b[0mbabelize\u001b[0m\u001b[0;34m.\u001b[0m\u001b[0mshell\u001b[0m\u001b[0;34m(\u001b[0m\u001b[0;34m)\u001b[0m\u001b[0;34m\u001b[0m\u001b[0;34m\u001b[0m\u001b[0m\n\u001b[0m",
      "\u001b[0;31mNameError\u001b[0m: name 'babelize' is not defined"
     ]
    }
   ],
   "source": [
    "from nltk.book import *\n",
    "\n",
    "babelize.shell()"
   ]
  },
  {
   "cell_type": "markdown",
   "metadata": {},
   "source": [
    "这里借用百度翻译API来验证："
   ]
  },
  {
   "cell_type": "code",
   "execution_count": 120,
   "metadata": {},
   "outputs": [],
   "source": [
    "import requests\n",
    "import hashlib\n",
    "import urllib\n",
    "import random\n",
    "import json\n",
    "\n",
    "appid = '20200515000455091'  # 填写你的appid\n",
    "secretKey = 'BK0TtlyFc6u9p0DwxkcA'  # 填写你的密钥\n",
    "\n",
    "\n",
    "def trans(fromLang, toLang, q):\n",
    "    myurl = 'http://api.fanyi.baidu.com/api/trans/vip/translate'\n",
    "    salt = random.randint(32768, 65536)\n",
    "    sign = appid + q + str(salt) + secretKey\n",
    "    sign = hashlib.md5(sign.encode()).hexdigest()\n",
    "    myurl = myurl + '?appid=' + appid + '&q=' + urllib.parse.quote(q) + '&from=' + fromLang + '&to=' + toLang + '&salt=' + str(\n",
    "    salt) + '&sign=' + sign\n",
    "    return myurl"
   ]
  },
  {
   "cell_type": "code",
   "execution_count": 123,
   "metadata": {},
   "outputs": [
    {
     "name": "stdout",
     "output_type": "stream",
     "text": [
      "--------0------------------\n",
      "from: how long before the next flight to Alice Springs? \n",
      " to: 下一班去爱丽丝泉的航班还有多久？\n",
      "--------1------------------\n",
      "from: 下一班去爱丽丝泉的航班还有多久？ \n",
      " to: How long is the next flight to Alice Springs?\n",
      "--------2------------------\n",
      "from: How long is the next flight to Alice Springs? \n",
      " to: 下一班去爱丽丝泉的航班要多长时间？\n",
      "--------3------------------\n",
      "from: 下一班去爱丽丝泉的航班要多长时间？ \n",
      " to: How long does the next flight to Alice Springs take?\n",
      "--------4------------------\n",
      "from: How long does the next flight to Alice Springs take? \n",
      " to: 下一班去爱丽丝泉的航班要多长时间？\n",
      "--------5------------------\n",
      "from: 下一班去爱丽丝泉的航班要多长时间？ \n",
      " to: How long does the next flight to Alice Springs take?\n",
      "--------6------------------\n",
      "from: How long does the next flight to Alice Springs take? \n",
      " to: 下一班去爱丽丝泉的航班要多长时间？\n",
      "--------7------------------\n",
      "from: 下一班去爱丽丝泉的航班要多长时间？ \n",
      " to: How long does the next flight to Alice Springs take?\n",
      "--------8------------------\n",
      "from: How long does the next flight to Alice Springs take? \n",
      " to: 下一班去爱丽丝泉的航班要多长时间？\n",
      "--------9------------------\n",
      "from: 下一班去爱丽丝泉的航班要多长时间？ \n",
      " to: How long does the next flight to Alice Springs take?\n"
     ]
    }
   ],
   "source": [
    "q = 'how long before the next flight to Alice Springs?'\n",
    "fromLang = 'auto'   #原文语种\n",
    "toLang = 'zh'       #译文语种\n",
    "for i in range(10):\n",
    "    url = trans(fromLang, toLang, q)\n",
    "    result = requests.get(url)\n",
    "    print(f\"--------{i}------------------\")\n",
    "    print(f\"from: {q} \\n to: {result.json()['trans_result'][0]['dst']}\")\n",
    "    time.sleep(1)\n",
    "    fromLang, toLang = toLang, fromLang\n",
    "    q = result.json()[\"trans_result\"][0][\"dst\"]"
   ]
  },
  {
   "cell_type": "markdown",
   "metadata": {},
   "source": [
    "这里就会发现，一句话通过机器的来回翻译，用词会发生变化。机器翻译的难度在于一个词会有不同的解释，还要通过改变结构来准确表达意思。\n",
    "\n",
    "在一些新闻网站上，我们能找到一篇新闻的不同语言版本，可以得到诸多**相似文本**，这些相似的语句可以进行配对，这个过程叫做**文本对齐**，得到一百万甚至更多的语句对，就可以建立一个文本模型，来翻译新的语句。"
   ]
  },
  {
   "cell_type": "markdown",
   "metadata": {},
   "source": [
    "## 人机对话"
   ]
  },
  {
   "cell_type": "markdown",
   "metadata": {},
   "source": [
    "人工智能领域一个非常重要的测试，被称为**图灵测试：**一个文本响应的系统能否让人觉察不到它是一个机器人。现如今商业上的文本对话系统还比较局限，只在一个限定领域内。"
   ]
  },
  {
   "cell_type": "markdown",
   "metadata": {},
   "source": [
    "我们来看看在一个人机对话系统中，NLP流程是怎么样的？\n",
    "\n",
    "语音输入分析 --> 词汇识别 --> 语义分析 --> 上下文推理 --> 执行程序 --> 响应规划 --> 语法结构 --> 词性变化 --> 语音合成输出 "
   ]
  },
  {
   "cell_type": "markdown",
   "metadata": {},
   "source": [
    "nltk自带一个聊天机器人，我们可以尝试和它进行对话："
   ]
  },
  {
   "cell_type": "code",
   "execution_count": null,
   "metadata": {},
   "outputs": [],
   "source": [
    "# import nltk\n",
    "\n",
    "# nltk.chat.chatbots()"
   ]
  }
 ],
 "metadata": {
  "kernelspec": {
   "display_name": "blog",
   "language": "python",
   "name": "blog"
  },
  "language_info": {
   "codemirror_mode": {
    "name": "ipython",
    "version": 3
   },
   "file_extension": ".py",
   "mimetype": "text/x-python",
   "name": "python",
   "nbconvert_exporter": "python",
   "pygments_lexer": "ipython3",
   "version": "3.7.5"
  }
 },
 "nbformat": 4,
 "nbformat_minor": 2
}
